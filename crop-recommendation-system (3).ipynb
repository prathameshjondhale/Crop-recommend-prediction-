{
 "cells": [
  {
   "cell_type": "markdown",
   "metadata": {
    "papermill": {
     "duration": 0.031088,
     "end_time": "2025-02-20T20:45:45.954783",
     "exception": false,
     "start_time": "2025-02-20T20:45:45.923695",
     "status": "completed"
    },
    "tags": []
   },
   "source": [
    "# CROP RECOMMENDATION SYSTEM "
   ]
  },
  {
   "cell_type": "markdown",
   "metadata": {
    "papermill": {
     "duration": 0.028724,
     "end_time": "2025-02-20T20:45:46.013395",
     "exception": false,
     "start_time": "2025-02-20T20:45:45.984671",
     "status": "completed"
    },
    "tags": []
   },
   "source": [
    "![](https://images.unsplash.com/photo-1560493676-04071c5f467b?ixid=MXwxMjA3fDB8MHxwaG90by1wYWdlfHx8fGVufDB8fHw%3D&ixlib=rb-1.2.1&auto=format&fit=crop&w=968&q=80)"
   ]
  },
  {
   "cell_type": "markdown",
   "metadata": {
    "papermill": {
     "duration": 0.029636,
     "end_time": "2025-02-20T20:45:46.128161",
     "exception": false,
     "start_time": "2025-02-20T20:45:46.098525",
     "status": "completed"
    },
    "tags": []
   },
   "source": [
    "## Read this kernel till the last, there's a cool thing at the end :)"
   ]
  },
  {
   "cell_type": "markdown",
   "metadata": {
    "papermill": {
     "duration": 0.028035,
     "end_time": "2025-02-20T20:45:46.185328",
     "exception": false,
     "start_time": "2025-02-20T20:45:46.157293",
     "status": "completed"
    },
    "tags": []
   },
   "source": [
    "# Goal 🎯\n",
    "**To recommend optimum crops to be cultivated by farmers based on several parameters and help them make an informed decision before cultivation**"
   ]
  },
  {
   "cell_type": "markdown",
   "metadata": {
    "papermill": {
     "duration": 0.027791,
     "end_time": "2025-02-20T20:45:46.241325",
     "exception": false,
     "start_time": "2025-02-20T20:45:46.213534",
     "status": "completed"
    },
    "tags": []
   },
   "source": [
    "# About the data"
   ]
  },
  {
   "cell_type": "markdown",
   "metadata": {
    "papermill": {
     "duration": 0.029445,
     "end_time": "2025-02-20T20:45:46.299627",
     "exception": false,
     "start_time": "2025-02-20T20:45:46.270182",
     "status": "completed"
    },
    "tags": []
   },
   "source": [
    "The data used in this project is made by augmenting and combining various publicly available datasets of India like weather, soil, etc. You can access the dataset [here](https://www.kaggle.com/atharvaingle/crop-recommendation-dataset). This data is relatively simple with very few but useful features unlike the complicated features affecting the yield of the crop.\n",
    "\n",
    "The data have Nitrogen, Phosphorous, Pottasium and pH values of the soil. Also, it also contains the humidity, temperature and rainfall required for a particular crop. "
   ]
  },
  {
   "cell_type": "markdown",
   "metadata": {
    "papermill": {
     "duration": 0.027957,
     "end_time": "2025-02-20T20:45:46.355478",
     "exception": false,
     "start_time": "2025-02-20T20:45:46.327521",
     "status": "completed"
    },
    "tags": []
   },
   "source": [
    "### **So, without further ado, Let's dive in and code ...**"
   ]
  },
  {
   "cell_type": "code",
   "execution_count": 1,
   "metadata": {
    "execution": {
     "iopub.execute_input": "2025-02-20T20:45:46.418488Z",
     "iopub.status.busy": "2025-02-20T20:45:46.417754Z",
     "iopub.status.idle": "2025-02-20T20:45:47.706219Z",
     "shell.execute_reply": "2025-02-20T20:45:47.705490Z",
     "shell.execute_reply.started": "2025-02-20T20:43:38.100919Z"
    },
    "papermill": {
     "duration": 1.322466,
     "end_time": "2025-02-20T20:45:47.706345",
     "exception": false,
     "start_time": "2025-02-20T20:45:46.383879",
     "status": "completed"
    },
    "tags": []
   },
   "outputs": [],
   "source": [
    "# Importing libraries\n",
    "\n",
    "from __future__ import print_function\n",
    "import pandas as pd\n",
    "import numpy as np\n",
    "import matplotlib.pyplot as plt\n",
    "import seaborn as sns\n",
    "from sklearn.metrics import classification_report\n",
    "from sklearn import metrics\n",
    "from sklearn import tree\n",
    "import warnings\n",
    "warnings.filterwarnings('ignore')"
   ]
  },
  {
   "cell_type": "code",
   "execution_count": 2,
   "metadata": {
    "execution": {
     "iopub.execute_input": "2025-02-20T20:45:47.778187Z",
     "iopub.status.busy": "2025-02-20T20:45:47.777527Z",
     "iopub.status.idle": "2025-02-20T20:45:47.807667Z",
     "shell.execute_reply": "2025-02-20T20:45:47.808167Z",
     "shell.execute_reply.started": "2025-02-20T20:43:38.109033Z"
    },
    "papermill": {
     "duration": 0.073225,
     "end_time": "2025-02-20T20:45:47.808326",
     "exception": false,
     "start_time": "2025-02-20T20:45:47.735101",
     "status": "completed"
    },
    "tags": []
   },
   "outputs": [],
   "source": [
    "PATH = '../input/crop-recommendation-dataset/Crop_recommendation.csv'\n",
    "df = pd.read_csv(PATH)"
   ]
  },
  {
   "cell_type": "code",
   "execution_count": 3,
   "metadata": {
    "execution": {
     "iopub.execute_input": "2025-02-20T20:45:47.881262Z",
     "iopub.status.busy": "2025-02-20T20:45:47.880644Z",
     "iopub.status.idle": "2025-02-20T20:45:47.891757Z",
     "shell.execute_reply": "2025-02-20T20:45:47.891202Z",
     "shell.execute_reply.started": "2025-02-20T20:43:38.133873Z"
    },
    "papermill": {
     "duration": 0.055075,
     "end_time": "2025-02-20T20:45:47.891875",
     "exception": false,
     "start_time": "2025-02-20T20:45:47.836800",
     "status": "completed"
    },
    "tags": []
   },
   "outputs": [
    {
     "data": {
      "text/html": [
       "<div>\n",
       "<style scoped>\n",
       "    .dataframe tbody tr th:only-of-type {\n",
       "        vertical-align: middle;\n",
       "    }\n",
       "\n",
       "    .dataframe tbody tr th {\n",
       "        vertical-align: top;\n",
       "    }\n",
       "\n",
       "    .dataframe thead th {\n",
       "        text-align: right;\n",
       "    }\n",
       "</style>\n",
       "<table border=\"1\" class=\"dataframe\">\n",
       "  <thead>\n",
       "    <tr style=\"text-align: right;\">\n",
       "      <th></th>\n",
       "      <th>N</th>\n",
       "      <th>P</th>\n",
       "      <th>K</th>\n",
       "      <th>temperature</th>\n",
       "      <th>humidity</th>\n",
       "      <th>ph</th>\n",
       "      <th>rainfall</th>\n",
       "      <th>label</th>\n",
       "    </tr>\n",
       "  </thead>\n",
       "  <tbody>\n",
       "    <tr>\n",
       "      <th>0</th>\n",
       "      <td>90</td>\n",
       "      <td>42</td>\n",
       "      <td>43</td>\n",
       "      <td>20.879744</td>\n",
       "      <td>82.002744</td>\n",
       "      <td>6.502985</td>\n",
       "      <td>202.935536</td>\n",
       "      <td>rice</td>\n",
       "    </tr>\n",
       "    <tr>\n",
       "      <th>1</th>\n",
       "      <td>85</td>\n",
       "      <td>58</td>\n",
       "      <td>41</td>\n",
       "      <td>21.770462</td>\n",
       "      <td>80.319644</td>\n",
       "      <td>7.038096</td>\n",
       "      <td>226.655537</td>\n",
       "      <td>rice</td>\n",
       "    </tr>\n",
       "    <tr>\n",
       "      <th>2</th>\n",
       "      <td>60</td>\n",
       "      <td>55</td>\n",
       "      <td>44</td>\n",
       "      <td>23.004459</td>\n",
       "      <td>82.320763</td>\n",
       "      <td>7.840207</td>\n",
       "      <td>263.964248</td>\n",
       "      <td>rice</td>\n",
       "    </tr>\n",
       "    <tr>\n",
       "      <th>3</th>\n",
       "      <td>74</td>\n",
       "      <td>35</td>\n",
       "      <td>40</td>\n",
       "      <td>26.491096</td>\n",
       "      <td>80.158363</td>\n",
       "      <td>6.980401</td>\n",
       "      <td>242.864034</td>\n",
       "      <td>rice</td>\n",
       "    </tr>\n",
       "    <tr>\n",
       "      <th>4</th>\n",
       "      <td>78</td>\n",
       "      <td>42</td>\n",
       "      <td>42</td>\n",
       "      <td>20.130175</td>\n",
       "      <td>81.604873</td>\n",
       "      <td>7.628473</td>\n",
       "      <td>262.717340</td>\n",
       "      <td>rice</td>\n",
       "    </tr>\n",
       "  </tbody>\n",
       "</table>\n",
       "</div>"
      ],
      "text/plain": [
       "    N   P   K  temperature   humidity        ph    rainfall label\n",
       "0  90  42  43    20.879744  82.002744  6.502985  202.935536  rice\n",
       "1  85  58  41    21.770462  80.319644  7.038096  226.655537  rice\n",
       "2  60  55  44    23.004459  82.320763  7.840207  263.964248  rice\n",
       "3  74  35  40    26.491096  80.158363  6.980401  242.864034  rice\n",
       "4  78  42  42    20.130175  81.604873  7.628473  262.717340  rice"
      ]
     },
     "execution_count": 3,
     "metadata": {},
     "output_type": "execute_result"
    }
   ],
   "source": [
    "df.head()"
   ]
  },
  {
   "cell_type": "code",
   "execution_count": 4,
   "metadata": {
    "execution": {
     "iopub.execute_input": "2025-02-20T20:45:47.964866Z",
     "iopub.status.busy": "2025-02-20T20:45:47.964054Z",
     "iopub.status.idle": "2025-02-20T20:45:47.968500Z",
     "shell.execute_reply": "2025-02-20T20:45:47.967882Z",
     "shell.execute_reply.started": "2025-02-20T20:43:38.153513Z"
    },
    "papermill": {
     "duration": 0.046329,
     "end_time": "2025-02-20T20:45:47.968612",
     "exception": false,
     "start_time": "2025-02-20T20:45:47.922283",
     "status": "completed"
    },
    "tags": []
   },
   "outputs": [
    {
     "data": {
      "text/html": [
       "<div>\n",
       "<style scoped>\n",
       "    .dataframe tbody tr th:only-of-type {\n",
       "        vertical-align: middle;\n",
       "    }\n",
       "\n",
       "    .dataframe tbody tr th {\n",
       "        vertical-align: top;\n",
       "    }\n",
       "\n",
       "    .dataframe thead th {\n",
       "        text-align: right;\n",
       "    }\n",
       "</style>\n",
       "<table border=\"1\" class=\"dataframe\">\n",
       "  <thead>\n",
       "    <tr style=\"text-align: right;\">\n",
       "      <th></th>\n",
       "      <th>N</th>\n",
       "      <th>P</th>\n",
       "      <th>K</th>\n",
       "      <th>temperature</th>\n",
       "      <th>humidity</th>\n",
       "      <th>ph</th>\n",
       "      <th>rainfall</th>\n",
       "      <th>label</th>\n",
       "    </tr>\n",
       "  </thead>\n",
       "  <tbody>\n",
       "    <tr>\n",
       "      <th>2195</th>\n",
       "      <td>107</td>\n",
       "      <td>34</td>\n",
       "      <td>32</td>\n",
       "      <td>26.774637</td>\n",
       "      <td>66.413269</td>\n",
       "      <td>6.780064</td>\n",
       "      <td>177.774507</td>\n",
       "      <td>coffee</td>\n",
       "    </tr>\n",
       "    <tr>\n",
       "      <th>2196</th>\n",
       "      <td>99</td>\n",
       "      <td>15</td>\n",
       "      <td>27</td>\n",
       "      <td>27.417112</td>\n",
       "      <td>56.636362</td>\n",
       "      <td>6.086922</td>\n",
       "      <td>127.924610</td>\n",
       "      <td>coffee</td>\n",
       "    </tr>\n",
       "    <tr>\n",
       "      <th>2197</th>\n",
       "      <td>118</td>\n",
       "      <td>33</td>\n",
       "      <td>30</td>\n",
       "      <td>24.131797</td>\n",
       "      <td>67.225123</td>\n",
       "      <td>6.362608</td>\n",
       "      <td>173.322839</td>\n",
       "      <td>coffee</td>\n",
       "    </tr>\n",
       "    <tr>\n",
       "      <th>2198</th>\n",
       "      <td>117</td>\n",
       "      <td>32</td>\n",
       "      <td>34</td>\n",
       "      <td>26.272418</td>\n",
       "      <td>52.127394</td>\n",
       "      <td>6.758793</td>\n",
       "      <td>127.175293</td>\n",
       "      <td>coffee</td>\n",
       "    </tr>\n",
       "    <tr>\n",
       "      <th>2199</th>\n",
       "      <td>104</td>\n",
       "      <td>18</td>\n",
       "      <td>30</td>\n",
       "      <td>23.603016</td>\n",
       "      <td>60.396475</td>\n",
       "      <td>6.779833</td>\n",
       "      <td>140.937041</td>\n",
       "      <td>coffee</td>\n",
       "    </tr>\n",
       "  </tbody>\n",
       "</table>\n",
       "</div>"
      ],
      "text/plain": [
       "        N   P   K  temperature   humidity        ph    rainfall   label\n",
       "2195  107  34  32    26.774637  66.413269  6.780064  177.774507  coffee\n",
       "2196   99  15  27    27.417112  56.636362  6.086922  127.924610  coffee\n",
       "2197  118  33  30    24.131797  67.225123  6.362608  173.322839  coffee\n",
       "2198  117  32  34    26.272418  52.127394  6.758793  127.175293  coffee\n",
       "2199  104  18  30    23.603016  60.396475  6.779833  140.937041  coffee"
      ]
     },
     "execution_count": 4,
     "metadata": {},
     "output_type": "execute_result"
    }
   ],
   "source": [
    "df.tail()"
   ]
  },
  {
   "cell_type": "code",
   "execution_count": 5,
   "metadata": {
    "execution": {
     "iopub.execute_input": "2025-02-20T20:45:48.032508Z",
     "iopub.status.busy": "2025-02-20T20:45:48.031577Z",
     "iopub.status.idle": "2025-02-20T20:45:48.035489Z",
     "shell.execute_reply": "2025-02-20T20:45:48.035014Z",
     "shell.execute_reply.started": "2025-02-20T20:43:38.175005Z"
    },
    "papermill": {
     "duration": 0.03786,
     "end_time": "2025-02-20T20:45:48.035604",
     "exception": false,
     "start_time": "2025-02-20T20:45:47.997744",
     "status": "completed"
    },
    "tags": []
   },
   "outputs": [
    {
     "data": {
      "text/plain": [
       "17600"
      ]
     },
     "execution_count": 5,
     "metadata": {},
     "output_type": "execute_result"
    }
   ],
   "source": [
    "df.size"
   ]
  },
  {
   "cell_type": "code",
   "execution_count": 6,
   "metadata": {
    "execution": {
     "iopub.execute_input": "2025-02-20T20:45:48.099583Z",
     "iopub.status.busy": "2025-02-20T20:45:48.098869Z",
     "iopub.status.idle": "2025-02-20T20:45:48.102889Z",
     "shell.execute_reply": "2025-02-20T20:45:48.102391Z",
     "shell.execute_reply.started": "2025-02-20T20:43:38.190012Z"
    },
    "papermill": {
     "duration": 0.037548,
     "end_time": "2025-02-20T20:45:48.103038",
     "exception": false,
     "start_time": "2025-02-20T20:45:48.065490",
     "status": "completed"
    },
    "tags": []
   },
   "outputs": [
    {
     "data": {
      "text/plain": [
       "(2200, 8)"
      ]
     },
     "execution_count": 6,
     "metadata": {},
     "output_type": "execute_result"
    }
   ],
   "source": [
    "df.shape"
   ]
  },
  {
   "cell_type": "code",
   "execution_count": 7,
   "metadata": {
    "execution": {
     "iopub.execute_input": "2025-02-20T20:45:48.169691Z",
     "iopub.status.busy": "2025-02-20T20:45:48.168547Z",
     "iopub.status.idle": "2025-02-20T20:45:48.172675Z",
     "shell.execute_reply": "2025-02-20T20:45:48.172095Z",
     "shell.execute_reply.started": "2025-02-20T20:43:38.208887Z"
    },
    "papermill": {
     "duration": 0.038488,
     "end_time": "2025-02-20T20:45:48.172796",
     "exception": false,
     "start_time": "2025-02-20T20:45:48.134308",
     "status": "completed"
    },
    "tags": []
   },
   "outputs": [
    {
     "data": {
      "text/plain": [
       "Index(['N', 'P', 'K', 'temperature', 'humidity', 'ph', 'rainfall', 'label'], dtype='object')"
      ]
     },
     "execution_count": 7,
     "metadata": {},
     "output_type": "execute_result"
    }
   ],
   "source": [
    "df.columns"
   ]
  },
  {
   "cell_type": "code",
   "execution_count": 8,
   "metadata": {
    "execution": {
     "iopub.execute_input": "2025-02-20T20:45:48.239485Z",
     "iopub.status.busy": "2025-02-20T20:45:48.238726Z",
     "iopub.status.idle": "2025-02-20T20:45:48.242715Z",
     "shell.execute_reply": "2025-02-20T20:45:48.242235Z",
     "shell.execute_reply.started": "2025-02-20T20:43:38.221084Z"
    },
    "papermill": {
     "duration": 0.039648,
     "end_time": "2025-02-20T20:45:48.242830",
     "exception": false,
     "start_time": "2025-02-20T20:45:48.203182",
     "status": "completed"
    },
    "tags": []
   },
   "outputs": [
    {
     "data": {
      "text/plain": [
       "array(['rice', 'maize', 'chickpea', 'kidneybeans', 'pigeonpeas',\n",
       "       'mothbeans', 'mungbean', 'blackgram', 'lentil', 'pomegranate',\n",
       "       'banana', 'mango', 'grapes', 'watermelon', 'muskmelon', 'apple',\n",
       "       'orange', 'papaya', 'coconut', 'cotton', 'jute', 'coffee'],\n",
       "      dtype=object)"
      ]
     },
     "execution_count": 8,
     "metadata": {},
     "output_type": "execute_result"
    }
   ],
   "source": [
    "df['label'].unique()"
   ]
  },
  {
   "cell_type": "code",
   "execution_count": 9,
   "metadata": {
    "execution": {
     "iopub.execute_input": "2025-02-20T20:45:48.334603Z",
     "iopub.status.busy": "2025-02-20T20:45:48.333390Z",
     "iopub.status.idle": "2025-02-20T20:45:48.337185Z",
     "shell.execute_reply": "2025-02-20T20:45:48.337647Z",
     "shell.execute_reply.started": "2025-02-20T20:43:38.236968Z"
    },
    "papermill": {
     "duration": 0.051485,
     "end_time": "2025-02-20T20:45:48.337787",
     "exception": false,
     "start_time": "2025-02-20T20:45:48.286302",
     "status": "completed"
    },
    "tags": []
   },
   "outputs": [
    {
     "data": {
      "text/plain": [
       "N                int64\n",
       "P                int64\n",
       "K                int64\n",
       "temperature    float64\n",
       "humidity       float64\n",
       "ph             float64\n",
       "rainfall       float64\n",
       "label           object\n",
       "dtype: object"
      ]
     },
     "execution_count": 9,
     "metadata": {},
     "output_type": "execute_result"
    }
   ],
   "source": [
    "df.dtypes"
   ]
  },
  {
   "cell_type": "code",
   "execution_count": 10,
   "metadata": {
    "execution": {
     "iopub.execute_input": "2025-02-20T20:45:48.434031Z",
     "iopub.status.busy": "2025-02-20T20:45:48.432920Z",
     "iopub.status.idle": "2025-02-20T20:45:48.437150Z",
     "shell.execute_reply": "2025-02-20T20:45:48.437577Z",
     "shell.execute_reply.started": "2025-02-20T20:43:38.255262Z"
    },
    "papermill": {
     "duration": 0.064742,
     "end_time": "2025-02-20T20:45:48.437732",
     "exception": false,
     "start_time": "2025-02-20T20:45:48.372990",
     "status": "completed"
    },
    "tags": []
   },
   "outputs": [
    {
     "data": {
      "text/plain": [
       "apple          100\n",
       "papaya         100\n",
       "lentil         100\n",
       "mango          100\n",
       "orange         100\n",
       "kidneybeans    100\n",
       "grapes         100\n",
       "chickpea       100\n",
       "mungbean       100\n",
       "mothbeans      100\n",
       "blackgram      100\n",
       "muskmelon      100\n",
       "jute           100\n",
       "pomegranate    100\n",
       "banana         100\n",
       "rice           100\n",
       "coconut        100\n",
       "cotton         100\n",
       "coffee         100\n",
       "watermelon     100\n",
       "pigeonpeas     100\n",
       "maize          100\n",
       "Name: label, dtype: int64"
      ]
     },
     "execution_count": 10,
     "metadata": {},
     "output_type": "execute_result"
    }
   ],
   "source": [
    "df['label'].value_counts()"
   ]
  },
  {
   "cell_type": "code",
   "execution_count": 11,
   "metadata": {
    "execution": {
     "iopub.execute_input": "2025-02-20T20:45:48.515084Z",
     "iopub.status.busy": "2025-02-20T20:45:48.514469Z",
     "iopub.status.idle": "2025-02-20T20:45:48.949968Z",
     "shell.execute_reply": "2025-02-20T20:45:48.948904Z",
     "shell.execute_reply.started": "2025-02-20T20:43:38.276914Z"
    },
    "papermill": {
     "duration": 0.473514,
     "end_time": "2025-02-20T20:45:48.950125",
     "exception": false,
     "start_time": "2025-02-20T20:45:48.476611",
     "status": "completed"
    },
    "tags": []
   },
   "outputs": [
    {
     "data": {
      "text/plain": [
       "<matplotlib.axes._subplots.AxesSubplot at 0x7f5b33335310>"
      ]
     },
     "execution_count": 11,
     "metadata": {},
     "output_type": "execute_result"
    },
    {
     "data": {
      "image/png": "[encoded data removed]",
      "text/plain": [
       "<Figure size 432x288 with 2 Axes>"
      ]
     },
     "metadata": {
      "needs_background": "light"
     },
     "output_type": "display_data"
    }
   ],
   "source": [
    "sns.heatmap(df.corr(),annot=True)"
   ]
  },
  {
   "cell_type": "markdown",
   "metadata": {
    "papermill": {
     "duration": 0.035525,
     "end_time": "2025-02-20T20:45:49.026094",
     "exception": false,
     "start_time": "2025-02-20T20:45:48.990569",
     "status": "completed"
    },
    "tags": []
   },
   "source": [
    "### Seperating features and target label"
   ]
  },
  {
   "cell_type": "code",
   "execution_count": 12,
   "metadata": {
    "execution": {
     "iopub.execute_input": "2025-02-20T20:45:49.099184Z",
     "iopub.status.busy": "2025-02-20T20:45:49.098511Z",
     "iopub.status.idle": "2025-02-20T20:45:49.101684Z",
     "shell.execute_reply": "2025-02-20T20:45:49.101094Z",
     "shell.execute_reply.started": "2025-02-20T20:43:38.711270Z"
    },
    "papermill": {
     "duration": 0.042737,
     "end_time": "2025-02-20T20:45:49.101796",
     "exception": false,
     "start_time": "2025-02-20T20:45:49.059059",
     "status": "completed"
    },
    "tags": []
   },
   "outputs": [],
   "source": [
    "features = df[['N', 'P','K','temperature', 'humidity', 'ph', 'rainfall']]\n",
    "target = df['label']\n",
    "labels = df['label']"
   ]
  },
  {
   "cell_type": "code",
   "execution_count": 13,
   "metadata": {
    "execution": {
     "iopub.execute_input": "2025-02-20T20:45:49.172713Z",
     "iopub.status.busy": "2025-02-20T20:45:49.171762Z",
     "iopub.status.idle": "2025-02-20T20:45:49.174717Z",
     "shell.execute_reply": "2025-02-20T20:45:49.174204Z",
     "shell.execute_reply.started": "2025-02-20T20:43:38.720238Z"
    },
    "papermill": {
     "duration": 0.039684,
     "end_time": "2025-02-20T20:45:49.174881",
     "exception": false,
     "start_time": "2025-02-20T20:45:49.135197",
     "status": "completed"
    },
    "tags": []
   },
   "outputs": [],
   "source": [
    "# Initializing empty lists to append all model's name and corresponding name\n",
    "acc = []\n",
    "model = []"
   ]
  },
  {
   "cell_type": "code",
   "execution_count": 14,
   "metadata": {
    "execution": {
     "iopub.execute_input": "2025-02-20T20:45:49.250704Z",
     "iopub.status.busy": "2025-02-20T20:45:49.249676Z",
     "iopub.status.idle": "2025-02-20T20:45:49.252154Z",
     "shell.execute_reply": "2025-02-20T20:45:49.252609Z",
     "shell.execute_reply.started": "2025-02-20T20:43:38.733422Z"
    },
    "papermill": {
     "duration": 0.044317,
     "end_time": "2025-02-20T20:45:49.252749",
     "exception": false,
     "start_time": "2025-02-20T20:45:49.208432",
     "status": "completed"
    },
    "tags": []
   },
   "outputs": [],
   "source": [
    "# Splitting into train and test data\n",
    "\n",
    "from sklearn.model_selection import train_test_split\n",
    "Xtrain, Xtest, Ytrain, Ytest = train_test_split(features,target,test_size = 0.2,random_state =2)"
   ]
  },
  {
   "cell_type": "markdown",
   "metadata": {
    "papermill": {
     "duration": 0.035442,
     "end_time": "2025-02-20T20:45:49.321139",
     "exception": false,
     "start_time": "2025-02-20T20:45:49.285697",
     "status": "completed"
    },
    "tags": []
   },
   "source": [
    "# Decision Tree"
   ]
  },
  {
   "cell_type": "code",
   "execution_count": 15,
   "metadata": {
    "execution": {
     "iopub.execute_input": "2025-02-20T20:45:49.394405Z",
     "iopub.status.busy": "2025-02-20T20:45:49.393747Z",
     "iopub.status.idle": "2025-02-20T20:45:49.441660Z",
     "shell.execute_reply": "2025-02-20T20:45:49.441072Z",
     "shell.execute_reply.started": "2025-02-20T20:43:38.751325Z"
    },
    "papermill": {
     "duration": 0.088285,
     "end_time": "2025-02-20T20:45:49.441784",
     "exception": false,
     "start_time": "2025-02-20T20:45:49.353499",
     "status": "completed"
    },
    "tags": []
   },
   "outputs": [
    {
     "name": "stdout",
     "output_type": "stream",
     "text": [
      "DecisionTrees's Accuracy is:  90.0\n",
      "              precision    recall  f1-score   support\n",
      "\n",
      "       apple       1.00      1.00      1.00        13\n",
      "      banana       1.00      1.00      1.00        17\n",
      "   blackgram       0.59      1.00      0.74        16\n",
      "    chickpea       1.00      1.00      1.00        21\n",
      "     coconut       0.91      1.00      0.95        21\n",
      "      coffee       1.00      1.00      1.00        22\n",
      "      cotton       1.00      1.00      1.00        20\n",
      "      grapes       1.00      1.00      1.00        18\n",
      "        jute       0.74      0.93      0.83        28\n",
      " kidneybeans       0.00      0.00      0.00        14\n",
      "      lentil       0.68      1.00      0.81        23\n",
      "       maize       1.00      1.00      1.00        21\n",
      "       mango       1.00      1.00      1.00        26\n",
      "   mothbeans       0.00      0.00      0.00        19\n",
      "    mungbean       1.00      1.00      1.00        24\n",
      "   muskmelon       1.00      1.00      1.00        23\n",
      "      orange       1.00      1.00      1.00        29\n",
      "      papaya       1.00      0.84      0.91        19\n",
      "  pigeonpeas       0.62      1.00      0.77        18\n",
      " pomegranate       1.00      1.00      1.00        17\n",
      "        rice       1.00      0.62      0.77        16\n",
      "  watermelon       1.00      1.00      1.00        15\n",
      "\n",
      "    accuracy                           0.90       440\n",
      "   macro avg       0.84      0.88      0.85       440\n",
      "weighted avg       0.86      0.90      0.87       440\n",
      "\n"
     ]
    }
   ],
   "source": [
    "from sklearn.tree import DecisionTreeClassifier\n",
    "\n",
    "DecisionTree = DecisionTreeClassifier(criterion=\"entropy\",random_state=2,max_depth=5)\n",
    "\n",
    "DecisionTree.fit(Xtrain,Ytrain)\n",
    "\n",
    "predicted_values = DecisionTree.predict(Xtest)\n",
    "x = metrics.accuracy_score(Ytest, predicted_values)\n",
    "acc.append(x)\n",
    "model.append('Decision Tree')\n",
    "print(\"DecisionTrees's Accuracy is: \", x*100)\n",
    "\n",
    "print(classification_report(Ytest,predicted_values))"
   ]
  },
  {
   "cell_type": "code",
   "execution_count": 16,
   "metadata": {
    "execution": {
     "iopub.execute_input": "2025-02-20T20:45:49.512847Z",
     "iopub.status.busy": "2025-02-20T20:45:49.512264Z",
     "iopub.status.idle": "2025-02-20T20:45:49.515393Z",
     "shell.execute_reply": "2025-02-20T20:45:49.514753Z",
     "shell.execute_reply.started": "2025-02-20T20:43:38.813046Z"
    },
    "papermill": {
     "duration": 0.040103,
     "end_time": "2025-02-20T20:45:49.515506",
     "exception": false,
     "start_time": "2025-02-20T20:45:49.475403",
     "status": "completed"
    },
    "tags": []
   },
   "outputs": [],
   "source": [
    "from sklearn.model_selection import cross_val_score"
   ]
  },
  {
   "cell_type": "code",
   "execution_count": 17,
   "metadata": {
    "execution": {
     "iopub.execute_input": "2025-02-20T20:45:49.589256Z",
     "iopub.status.busy": "2025-02-20T20:45:49.588555Z",
     "iopub.status.idle": "2025-02-20T20:45:49.729654Z",
     "shell.execute_reply": "2025-02-20T20:45:49.729040Z",
     "shell.execute_reply.started": "2025-02-20T20:43:38.819890Z"
    },
    "papermill": {
     "duration": 0.181266,
     "end_time": "2025-02-20T20:45:49.729763",
     "exception": false,
     "start_time": "2025-02-20T20:45:49.548497",
     "status": "completed"
    },
    "tags": []
   },
   "outputs": [],
   "source": [
    "# Cross validation score (Decision Tree)\n",
    "score = cross_val_score(DecisionTree, features, target,cv=5)"
   ]
  },
  {
   "cell_type": "code",
   "execution_count": 18,
   "metadata": {
    "execution": {
     "iopub.execute_input": "2025-02-20T20:45:49.800827Z",
     "iopub.status.busy": "2025-02-20T20:45:49.800124Z",
     "iopub.status.idle": "2025-02-20T20:45:49.803898Z",
     "shell.execute_reply": "2025-02-20T20:45:49.803438Z",
     "shell.execute_reply.started": "2025-02-20T20:43:38.981746Z"
    },
    "papermill": {
     "duration": 0.041478,
     "end_time": "2025-02-20T20:45:49.804051",
     "exception": false,
     "start_time": "2025-02-20T20:45:49.762573",
     "status": "completed"
    },
    "tags": []
   },
   "outputs": [
    {
     "data": {
      "text/plain": [
       "array([0.93636364, 0.90909091, 0.91818182, 0.87045455, 0.93636364])"
      ]
     },
     "execution_count": 18,
     "metadata": {},
     "output_type": "execute_result"
    }
   ],
   "source": [
    "score"
   ]
  },
  {
   "cell_type": "markdown",
   "metadata": {
    "papermill": {
     "duration": 0.032385,
     "end_time": "2025-02-20T20:45:49.869937",
     "exception": false,
     "start_time": "2025-02-20T20:45:49.837552",
     "status": "completed"
    },
    "tags": []
   },
   "source": [
    "### Saving trained Decision Tree model"
   ]
  },
  {
   "cell_type": "code",
   "execution_count": 19,
   "metadata": {
    "execution": {
     "iopub.execute_input": "2025-02-20T20:45:49.943555Z",
     "iopub.status.busy": "2025-02-20T20:45:49.942849Z",
     "iopub.status.idle": "2025-02-20T20:45:49.946741Z",
     "shell.execute_reply": "2025-02-20T20:45:49.946153Z",
     "shell.execute_reply.started": "2025-02-20T20:43:38.989360Z"
    },
    "papermill": {
     "duration": 0.041604,
     "end_time": "2025-02-20T20:45:49.946866",
     "exception": false,
     "start_time": "2025-02-20T20:45:49.905262",
     "status": "completed"
    },
    "tags": []
   },
   "outputs": [],
   "source": [
    "import pickle\n",
    "# Dump the trained Naive Bayes classifier with Pickle\n",
    "DT_pkl_filename = 'DecisionTree.pkl'\n",
    "# Open the file to save as pkl file\n",
    "DT_Model_pkl = open(DT_pkl_filename, 'wb')\n",
    "pickle.dump(DecisionTree, DT_Model_pkl)\n",
    "# Close the pickle instances\n",
    "DT_Model_pkl.close()"
   ]
  },
  {
   "cell_type": "markdown",
   "metadata": {
    "papermill": {
     "duration": 0.033085,
     "end_time": "2025-02-20T20:45:50.013364",
     "exception": false,
     "start_time": "2025-02-20T20:45:49.980279",
     "status": "completed"
    },
    "tags": []
   },
   "source": [
    "# Guassian Naive Bayes"
   ]
  },
  {
   "cell_type": "code",
   "execution_count": 20,
   "metadata": {
    "execution": {
     "iopub.execute_input": "2025-02-20T20:45:50.086331Z",
     "iopub.status.busy": "2025-02-20T20:45:50.085652Z",
     "iopub.status.idle": "2025-02-20T20:45:50.115412Z",
     "shell.execute_reply": "2025-02-20T20:45:50.114878Z",
     "shell.execute_reply.started": "2025-02-20T20:43:39.010512Z"
    },
    "papermill": {
     "duration": 0.069089,
     "end_time": "2025-02-20T20:45:50.115541",
     "exception": false,
     "start_time": "2025-02-20T20:45:50.046452",
     "status": "completed"
    },
    "tags": []
   },
   "outputs": [
    {
     "name": "stdout",
     "output_type": "stream",
     "text": [
      "Naive Bayes's Accuracy is:  0.990909090909091\n",
      "              precision    recall  f1-score   support\n",
      "\n",
      "       apple       1.00      1.00      1.00        13\n",
      "      banana       1.00      1.00      1.00        17\n",
      "   blackgram       1.00      1.00      1.00        16\n",
      "    chickpea       1.00      1.00      1.00        21\n",
      "     coconut       1.00      1.00      1.00        21\n",
      "      coffee       1.00      1.00      1.00        22\n",
      "      cotton       1.00      1.00      1.00        20\n",
      "      grapes       1.00      1.00      1.00        18\n",
      "        jute       0.88      1.00      0.93        28\n",
      " kidneybeans       1.00      1.00      1.00        14\n",
      "      lentil       1.00      1.00      1.00        23\n",
      "       maize       1.00      1.00      1.00        21\n",
      "       mango       1.00      1.00      1.00        26\n",
      "   mothbeans       1.00      1.00      1.00        19\n",
      "    mungbean       1.00      1.00      1.00        24\n",
      "   muskmelon       1.00      1.00      1.00        23\n",
      "      orange       1.00      1.00      1.00        29\n",
      "      papaya       1.00      1.00      1.00        19\n",
      "  pigeonpeas       1.00      1.00      1.00        18\n",
      " pomegranate       1.00      1.00      1.00        17\n",
      "        rice       1.00      0.75      0.86        16\n",
      "  watermelon       1.00      1.00      1.00        15\n",
      "\n",
      "    accuracy                           0.99       440\n",
      "   macro avg       0.99      0.99      0.99       440\n",
      "weighted avg       0.99      0.99      0.99       440\n",
      "\n"
     ]
    }
   ],
   "source": [
    "from sklearn.naive_bayes import GaussianNB\n",
    "\n",
    "NaiveBayes = GaussianNB()\n",
    "\n",
    "NaiveBayes.fit(Xtrain,Ytrain)\n",
    "\n",
    "predicted_values = NaiveBayes.predict(Xtest)\n",
    "x = metrics.accuracy_score(Ytest, predicted_values)\n",
    "acc.append(x)\n",
    "model.append('Naive Bayes')\n",
    "print(\"Naive Bayes's Accuracy is: \", x)\n",
    "\n",
    "print(classification_report(Ytest,predicted_values))"
   ]
  },
  {
   "cell_type": "code",
   "execution_count": 21,
   "metadata": {
    "execution": {
     "iopub.execute_input": "2025-02-20T20:45:50.193896Z",
     "iopub.status.busy": "2025-02-20T20:45:50.193306Z",
     "iopub.status.idle": "2025-02-20T20:45:50.252855Z",
     "shell.execute_reply": "2025-02-20T20:45:50.252216Z",
     "shell.execute_reply.started": "2025-02-20T20:43:39.056874Z"
    },
    "papermill": {
     "duration": 0.101376,
     "end_time": "2025-02-20T20:45:50.253002",
     "exception": false,
     "start_time": "2025-02-20T20:45:50.151626",
     "status": "completed"
    },
    "tags": []
   },
   "outputs": [
    {
     "data": {
      "text/plain": [
       "array([0.99772727, 0.99545455, 0.99545455, 0.99545455, 0.99090909])"
      ]
     },
     "execution_count": 21,
     "metadata": {},
     "output_type": "execute_result"
    }
   ],
   "source": [
    "# Cross validation score (NaiveBayes)\n",
    "score = cross_val_score(NaiveBayes,features,target,cv=5)\n",
    "score"
   ]
  },
  {
   "cell_type": "markdown",
   "metadata": {
    "papermill": {
     "duration": 0.037052,
     "end_time": "2025-02-20T20:45:50.324718",
     "exception": false,
     "start_time": "2025-02-20T20:45:50.287666",
     "status": "completed"
    },
    "tags": []
   },
   "source": [
    "### Saving trained Guassian Naive Bayes model"
   ]
  },
  {
   "cell_type": "code",
   "execution_count": 22,
   "metadata": {
    "execution": {
     "iopub.execute_input": "2025-02-20T20:45:50.399563Z",
     "iopub.status.busy": "2025-02-20T20:45:50.398805Z",
     "iopub.status.idle": "2025-02-20T20:45:50.402648Z",
     "shell.execute_reply": "2025-02-20T20:45:50.402058Z",
     "shell.execute_reply.started": "2025-02-20T20:43:39.129129Z"
    },
    "papermill": {
     "duration": 0.043619,
     "end_time": "2025-02-20T20:45:50.402759",
     "exception": false,
     "start_time": "2025-02-20T20:45:50.359140",
     "status": "completed"
    },
    "tags": []
   },
   "outputs": [],
   "source": [
    "import pickle\n",
    "# Dump the trained Naive Bayes classifier with Pickle\n",
    "NB_pkl_filename = 'NBClassifier.pkl'\n",
    "# Open the file to save as pkl file\n",
    "NB_Model_pkl = open(NB_pkl_filename, 'wb')\n",
    "pickle.dump(NaiveBayes, NB_Model_pkl)\n",
    "# Close the pickle instances\n",
    "NB_Model_pkl.close()"
   ]
  },
  {
   "cell_type": "markdown",
   "metadata": {
    "papermill": {
     "duration": 0.033758,
     "end_time": "2025-02-20T20:45:50.471288",
     "exception": false,
     "start_time": "2025-02-20T20:45:50.437530",
     "status": "completed"
    },
    "tags": []
   },
   "source": [
    "# Support Vector Machine (SVM)"
   ]
  },
  {
   "cell_type": "code",
   "execution_count": 23,
   "metadata": {
    "execution": {
     "iopub.execute_input": "2025-02-20T20:45:50.549502Z",
     "iopub.status.busy": "2025-02-20T20:45:50.548815Z",
     "iopub.status.idle": "2025-02-20T20:45:50.956899Z",
     "shell.execute_reply": "2025-02-20T20:45:50.956300Z",
     "shell.execute_reply.started": "2025-02-20T20:43:39.137162Z"
    },
    "papermill": {
     "duration": 0.452073,
     "end_time": "2025-02-20T20:45:50.957079",
     "exception": false,
     "start_time": "2025-02-20T20:45:50.505006",
     "status": "completed"
    },
    "tags": []
   },
   "outputs": [
    {
     "name": "stdout",
     "output_type": "stream",
     "text": [
      "SVM's Accuracy is:  0.10681818181818181\n",
      "              precision    recall  f1-score   support\n",
      "\n",
      "       apple       1.00      0.23      0.38        13\n",
      "      banana       1.00      0.24      0.38        17\n",
      "   blackgram       1.00      0.19      0.32        16\n",
      "    chickpea       1.00      0.05      0.09        21\n",
      "     coconut       1.00      0.05      0.09        21\n",
      "      coffee       0.00      0.00      0.00        22\n",
      "      cotton       1.00      0.05      0.10        20\n",
      "      grapes       1.00      0.06      0.11        18\n",
      "        jute       1.00      0.07      0.13        28\n",
      " kidneybeans       0.03      1.00      0.07        14\n",
      "      lentil       0.00      0.00      0.00        23\n",
      "       maize       0.00      0.00      0.00        21\n",
      "       mango       0.00      0.00      0.00        26\n",
      "   mothbeans       0.00      0.00      0.00        19\n",
      "    mungbean       1.00      0.12      0.22        24\n",
      "   muskmelon       1.00      0.30      0.47        23\n",
      "      orange       1.00      0.03      0.07        29\n",
      "      papaya       1.00      0.05      0.10        19\n",
      "  pigeonpeas       0.00      0.00      0.00        18\n",
      " pomegranate       1.00      0.12      0.21        17\n",
      "        rice       0.50      0.06      0.11        16\n",
      "  watermelon       1.00      0.13      0.24        15\n",
      "\n",
      "    accuracy                           0.11       440\n",
      "   macro avg       0.66      0.13      0.14       440\n",
      "weighted avg       0.66      0.11      0.13       440\n",
      "\n"
     ]
    }
   ],
   "source": [
    "from sklearn.svm import SVC\n",
    "\n",
    "SVM = SVC(gamma='auto')\n",
    "\n",
    "SVM.fit(Xtrain,Ytrain)\n",
    "\n",
    "predicted_values = SVM.predict(Xtest)\n",
    "\n",
    "x = metrics.accuracy_score(Ytest, predicted_values)\n",
    "acc.append(x)\n",
    "model.append('SVM')\n",
    "print(\"SVM's Accuracy is: \", x)\n",
    "\n",
    "print(classification_report(Ytest,predicted_values))"
   ]
  },
  {
   "cell_type": "code",
   "execution_count": 24,
   "metadata": {
    "execution": {
     "iopub.execute_input": "2025-02-20T20:45:51.033678Z",
     "iopub.status.busy": "2025-02-20T20:45:51.032696Z",
     "iopub.status.idle": "2025-02-20T20:45:52.857461Z",
     "shell.execute_reply": "2025-02-20T20:45:52.856777Z",
     "shell.execute_reply.started": "2025-02-20T20:43:39.558317Z"
    },
    "papermill": {
     "duration": 1.866459,
     "end_time": "2025-02-20T20:45:52.857580",
     "exception": false,
     "start_time": "2025-02-20T20:45:50.991121",
     "status": "completed"
    },
    "tags": []
   },
   "outputs": [
    {
     "data": {
      "text/plain": [
       "array([0.27727273, 0.28863636, 0.29090909, 0.275     , 0.26818182])"
      ]
     },
     "execution_count": 24,
     "metadata": {},
     "output_type": "execute_result"
    }
   ],
   "source": [
    "# Cross validation score (SVM)\n",
    "score = cross_val_score(SVM,features,target,cv=5)\n",
    "score"
   ]
  },
  {
   "cell_type": "markdown",
   "metadata": {
    "papermill": {
     "duration": 0.033809,
     "end_time": "2025-02-20T20:45:52.926323",
     "exception": false,
     "start_time": "2025-02-20T20:45:52.892514",
     "status": "completed"
    },
    "tags": []
   },
   "source": [
    "# Logistic Regression"
   ]
  },
  {
   "cell_type": "code",
   "execution_count": 25,
   "metadata": {
    "execution": {
     "iopub.execute_input": "2025-02-20T20:45:53.015133Z",
     "iopub.status.busy": "2025-02-20T20:45:53.014466Z",
     "iopub.status.idle": "2025-02-20T20:45:53.312729Z",
     "shell.execute_reply": "2025-02-20T20:45:53.312140Z",
     "shell.execute_reply.started": "2025-02-20T20:43:41.381254Z"
    },
    "papermill": {
     "duration": 0.351578,
     "end_time": "2025-02-20T20:45:53.312869",
     "exception": false,
     "start_time": "2025-02-20T20:45:52.961291",
     "status": "completed"
    },
    "tags": []
   },
   "outputs": [
    {
     "name": "stdout",
     "output_type": "stream",
     "text": [
      "Logistic Regression's Accuracy is:  0.9522727272727273\n",
      "              precision    recall  f1-score   support\n",
      "\n",
      "       apple       1.00      1.00      1.00        13\n",
      "      banana       1.00      1.00      1.00        17\n",
      "   blackgram       0.86      0.75      0.80        16\n",
      "    chickpea       1.00      1.00      1.00        21\n",
      "     coconut       1.00      1.00      1.00        21\n",
      "      coffee       1.00      1.00      1.00        22\n",
      "      cotton       0.86      0.90      0.88        20\n",
      "      grapes       1.00      1.00      1.00        18\n",
      "        jute       0.84      0.93      0.88        28\n",
      " kidneybeans       1.00      1.00      1.00        14\n",
      "      lentil       0.88      1.00      0.94        23\n",
      "       maize       0.90      0.86      0.88        21\n",
      "       mango       0.96      1.00      0.98        26\n",
      "   mothbeans       0.84      0.84      0.84        19\n",
      "    mungbean       1.00      0.96      0.98        24\n",
      "   muskmelon       1.00      1.00      1.00        23\n",
      "      orange       1.00      1.00      1.00        29\n",
      "      papaya       1.00      0.95      0.97        19\n",
      "  pigeonpeas       1.00      1.00      1.00        18\n",
      " pomegranate       1.00      1.00      1.00        17\n",
      "        rice       0.85      0.69      0.76        16\n",
      "  watermelon       1.00      1.00      1.00        15\n",
      "\n",
      "    accuracy                           0.95       440\n",
      "   macro avg       0.95      0.95      0.95       440\n",
      "weighted avg       0.95      0.95      0.95       440\n",
      "\n"
     ]
    }
   ],
   "source": [
    "from sklearn.linear_model import LogisticRegression\n",
    "\n",
    "LogReg = LogisticRegression(random_state=2)\n",
    "\n",
    "LogReg.fit(Xtrain,Ytrain)\n",
    "\n",
    "predicted_values = LogReg.predict(Xtest)\n",
    "\n",
    "x = metrics.accuracy_score(Ytest, predicted_values)\n",
    "acc.append(x)\n",
    "model.append('Logistic Regression')\n",
    "print(\"Logistic Regression's Accuracy is: \", x)\n",
    "\n",
    "print(classification_report(Ytest,predicted_values))"
   ]
  },
  {
   "cell_type": "code",
   "execution_count": 26,
   "metadata": {
    "execution": {
     "iopub.execute_input": "2025-02-20T20:45:53.396280Z",
     "iopub.status.busy": "2025-02-20T20:45:53.395358Z",
     "iopub.status.idle": "2025-02-20T20:45:54.869636Z",
     "shell.execute_reply": "2025-02-20T20:45:54.869025Z",
     "shell.execute_reply.started": "2025-02-20T20:43:41.705889Z"
    },
    "papermill": {
     "duration": 1.518179,
     "end_time": "2025-02-20T20:45:54.869749",
     "exception": false,
     "start_time": "2025-02-20T20:45:53.351570",
     "status": "completed"
    },
    "tags": []
   },
   "outputs": [
    {
     "data": {
      "text/plain": [
       "array([0.95      , 0.96590909, 0.94772727, 0.96818182, 0.94318182])"
      ]
     },
     "execution_count": 26,
     "metadata": {},
     "output_type": "execute_result"
    }
   ],
   "source": [
    "# Cross validation score (Logistic Regression)\n",
    "score = cross_val_score(LogReg,features,target,cv=5)\n",
    "score"
   ]
  },
  {
   "cell_type": "markdown",
   "metadata": {
    "papermill": {
     "duration": 0.035146,
     "end_time": "2025-02-20T20:45:54.940694",
     "exception": false,
     "start_time": "2025-02-20T20:45:54.905548",
     "status": "completed"
    },
    "tags": []
   },
   "source": [
    "### Saving trained Logistic Regression model"
   ]
  },
  {
   "cell_type": "code",
   "execution_count": 27,
   "metadata": {
    "execution": {
     "iopub.execute_input": "2025-02-20T20:45:55.018730Z",
     "iopub.status.busy": "2025-02-20T20:45:55.017849Z",
     "iopub.status.idle": "2025-02-20T20:45:55.021315Z",
     "shell.execute_reply": "2025-02-20T20:45:55.020611Z",
     "shell.execute_reply.started": "2025-02-20T20:43:43.230718Z"
    },
    "papermill": {
     "duration": 0.044511,
     "end_time": "2025-02-20T20:45:55.021437",
     "exception": false,
     "start_time": "2025-02-20T20:45:54.976926",
     "status": "completed"
    },
    "tags": []
   },
   "outputs": [],
   "source": [
    "import pickle\n",
    "# Dump the trained Naive Bayes classifier with Pickle\n",
    "LR_pkl_filename = 'LogisticRegression.pkl'\n",
    "# Open the file to save as pkl file\n",
    "LR_Model_pkl = open(DT_pkl_filename, 'wb')\n",
    "pickle.dump(LogReg, LR_Model_pkl)\n",
    "# Close the pickle instances\n",
    "LR_Model_pkl.close()"
   ]
  },
  {
   "cell_type": "code",
   "execution_count": null,
   "metadata": {
    "papermill": {
     "duration": 0.038469,
     "end_time": "2025-02-20T20:46:01.440384",
     "exception": false,
     "start_time": "2025-02-20T20:46:01.401915",
     "status": "completed"
    },
    "tags": []
   },
   "outputs": [],
   "source": []
  }
 ],
 "metadata": {
  "kaggle": {
   "accelerator": "none",
   "dataSources": [
    {
     "datasetId": 1046158,
     "sourceId": 1760012,
     "sourceType": "datasetVersion"
    }
   ],
   "dockerImageVersionId": 30042,
   "isGpuEnabled": false,
   "isInternetEnabled": true,
   "language": "python",
   "sourceType": "notebook"
  },
  "kernelspec": {
   "display_name": "Python [conda env:base] *",
   "language": "python",
   "name": "conda-base-py"
  },
  "language_info": {
   "codemirror_mode": {
    "name": "ipython",
    "version": 3
   },
   "file_extension": ".py",
   "mimetype": "text/x-python",
   "name": "python",
   "nbconvert_exporter": "python",
   "pygments_lexer": "ipython3",
   "version": "3.12.7"
  },
  "papermill": {
   "duration": 20.475429,
   "end_time": "2025-02-20T20:46:01.586542",
   "environment_variables": {},
   "exception": null,
   "input_path": "__notebook__.ipynb",
   "output_path": "__notebook__.ipynb",
   "parameters": {},
   "start_time": "2025-02-20T20:45:41.111113",
   "version": "2.1.0"
  }
 },
 "nbformat": 4,
 "nbformat_minor": 4
}
